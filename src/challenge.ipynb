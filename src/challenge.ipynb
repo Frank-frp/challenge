{
 "cells": [
  {
   "cell_type": "markdown",
   "metadata": {},
   "source": [
    "En este archivo puedes escribir lo que estimes conveniente. Te recomendamos detallar tu solución y todas las suposiciones que estás considerando. Aquí puedes ejecutar las funciones que definiste en los otros archivos de la carpeta src, medir el tiempo, memoria, etc."
   ]
  },
  {
   "cell_type": "code",
   "execution_count": 7,
   "metadata": {},
   "outputs": [],
   "source": [
    "file_path = \"../data/farmers-protest-tweets-2021-2-4.json\""
   ]
  },
  {
   "cell_type": "code",
   "execution_count": 56,
   "metadata": {},
   "outputs": [],
   "source": [
    "# Importación de Librerías\n",
    "import pandas as pd\n",
    "import datetime\n",
    "import re\n",
    "from memory_profiler import memory_usage\n",
    "import time\n",
    "from typing import List, Tuple\n",
    "from memory_profiler import memory_usage"
   ]
  },
  {
   "cell_type": "code",
   "execution_count": 57,
   "metadata": {},
   "outputs": [],
   "source": [
    "# Función para medir tiempo y memoria\n",
    "def measure_performance(func, *args):\n",
    "    start_time = time.time()\n",
    "    mem_usage = memory_usage((func, args), interval=0.1, timeout=None)\n",
    "    end_time = time.time()\n",
    "    exec_time = end_time - start_time\n",
    "    max_mem_usage = max(mem_usage)\n",
    "    return exec_time, max_mem_usage"
   ]
  },
  {
   "cell_type": "code",
   "execution_count": 9,
   "metadata": {},
   "outputs": [
    {
     "name": "stdout",
     "output_type": "stream",
     "text": [
      "                                                 url  \\\n",
      "0  https://twitter.com/ArjunSinghPanam/status/136...   \n",
      "1  https://twitter.com/PrdeepNain/status/13645062...   \n",
      "2  https://twitter.com/parmarmaninder/status/1364...   \n",
      "3  https://twitter.com/anmoldhaliwal/status/13645...   \n",
      "4  https://twitter.com/KotiaPreet/status/13645061...   \n",
      "\n",
      "                       date  \\\n",
      "0 2021-02-24 09:23:35+00:00   \n",
      "1 2021-02-24 09:23:32+00:00   \n",
      "2 2021-02-24 09:23:22+00:00   \n",
      "3 2021-02-24 09:23:16+00:00   \n",
      "4 2021-02-24 09:23:10+00:00   \n",
      "\n",
      "                                             content  \\\n",
      "0  The world progresses while the Indian police a...   \n",
      "1  #FarmersProtest \\n#ModiIgnoringFarmersDeaths \\...   \n",
      "2  ਪੈਟਰੋਲ ਦੀਆਂ ਕੀਮਤਾਂ ਨੂੰ ਮੱਦੇਨਜ਼ਰ ਰੱਖਦੇ ਹੋਏ \\nਮੇ...   \n",
      "3  @ReallySwara @rohini_sgh watch full video here...   \n",
      "4  #KisanEktaMorcha #FarmersProtest #NoFarmersNoF...   \n",
      "\n",
      "                                     renderedContent                   id  \\\n",
      "0  The world progresses while the Indian police a...  1364506249291784198   \n",
      "1  #FarmersProtest \\n#ModiIgnoringFarmersDeaths \\...  1364506237451313155   \n",
      "2  ਪੈਟਰੋਲ ਦੀਆਂ ਕੀਮਤਾਂ ਨੂੰ ਮੱਦੇਨਜ਼ਰ ਰੱਖਦੇ ਹੋਏ \\nਮੇ...  1364506195453767680   \n",
      "3  @ReallySwara @rohini_sgh watch full video here...  1364506167226032128   \n",
      "4  #KisanEktaMorcha #FarmersProtest #NoFarmersNoF...  1364506144002088963   \n",
      "\n",
      "                                                user  \\\n",
      "0  {'username': 'ArjunSinghPanam', 'displayname':...   \n",
      "1  {'username': 'PrdeepNain', 'displayname': 'Pra...   \n",
      "2  {'username': 'parmarmaninder', 'displayname': ...   \n",
      "3  {'username': 'anmoldhaliwal', 'displayname': '...   \n",
      "4  {'username': 'KotiaPreet', 'displayname': 'Pre...   \n",
      "\n",
      "                                            outlinks  \\\n",
      "0  [https://twitter.com/ravisinghka/status/136415...   \n",
      "1                                                 []   \n",
      "2                                                 []   \n",
      "3                     [https://youtu.be/-bUKumwq-J8]   \n",
      "4                                                 []   \n",
      "\n",
      "                 tcooutlinks  replyCount  retweetCount  ...  quoteCount  \\\n",
      "0  [https://t.co/es3kn0IQAF]           0             0  ...           0   \n",
      "1                         []           0             0  ...           0   \n",
      "2                         []           0             0  ...           0   \n",
      "3  [https://t.co/wBPNdJdB0n]           0             0  ...           0   \n",
      "4                         []           0             0  ...           0   \n",
      "\n",
      "        conversationId  lang  \\\n",
      "0  1364506249291784198    en   \n",
      "1  1364506237451313155    en   \n",
      "2  1364506195453767680    pa   \n",
      "3  1364350947099484160    en   \n",
      "4  1364506144002088963   und   \n",
      "\n",
      "                                              source  \\\n",
      "0  <a href=\"http://twitter.com/download/iphone\" r...   \n",
      "1  <a href=\"http://twitter.com/download/android\" ...   \n",
      "2  <a href=\"http://twitter.com/download/android\" ...   \n",
      "3  <a href=\"https://mobile.twitter.com\" rel=\"nofo...   \n",
      "4  <a href=\"http://twitter.com/download/iphone\" r...   \n",
      "\n",
      "                             sourceUrl          sourceLabel  \\\n",
      "0   http://twitter.com/download/iphone   Twitter for iPhone   \n",
      "1  http://twitter.com/download/android  Twitter for Android   \n",
      "2  http://twitter.com/download/android  Twitter for Android   \n",
      "3           https://mobile.twitter.com      Twitter Web App   \n",
      "4   http://twitter.com/download/iphone   Twitter for iPhone   \n",
      "\n",
      "                                               media retweetedTweet  \\\n",
      "0                                               None            NaN   \n",
      "1  [{'thumbnailUrl': 'https://pbs.twimg.com/ext_t...            NaN   \n",
      "2                                               None            NaN   \n",
      "3  [{'thumbnailUrl': 'https://pbs.twimg.com/ext_t...            NaN   \n",
      "4  [{'previewUrl': 'https://pbs.twimg.com/media/E...            NaN   \n",
      "\n",
      "                                         quotedTweet  \\\n",
      "0  {'url': 'https://twitter.com/RaviSinghKA/statu...   \n",
      "1                                               None   \n",
      "2                                               None   \n",
      "3                                               None   \n",
      "4                                               None   \n",
      "\n",
      "                                      mentionedUsers  \n",
      "0  [{'username': 'narendramodi', 'displayname': '...  \n",
      "1  [{'username': 'Kisanektamorcha', 'displayname'...  \n",
      "2                                               None  \n",
      "3  [{'username': 'ReallySwara', 'displayname': 'S...  \n",
      "4                                               None  \n",
      "\n",
      "[5 rows x 21 columns]\n"
     ]
    }
   ],
   "source": [
    "# Cargar los Datos\n",
    "data = pd.read_json(file_path, lines=True)\n",
    "print(data.head())"
   ]
  },
  {
   "cell_type": "markdown",
   "metadata": {},
   "source": [
    "Ejecución de Funciones Python según la información solicitada"
   ]
  },
  {
   "cell_type": "markdown",
   "metadata": {},
   "source": [
    "01_MEMORY -> Funcion enfocada en optimizar los recursos"
   ]
  },
  {
   "cell_type": "code",
   "execution_count": 30,
   "metadata": {},
   "outputs": [],
   "source": [
    "# Función q1_memory\n",
    "def q1_memory(file_path: str) -> List[Tuple[datetime.date, str]]:\n",
    "    date_counts = {}\n",
    "    user_counts = {}\n",
    "    chunksize = 100000\n",
    "    for chunk in pd.read_json(file_path, lines=True, chunksize=chunksize):\n",
    "        chunk['date'] = pd.to_datetime(chunk['date'])\n",
    "        chunk['date_only'] = chunk['date'].dt.date\n",
    "        \n",
    "        for date, group in chunk.groupby('date_only'):\n",
    "            date_counts[date] = date_counts.get(date, 0) + len(group)\n",
    "            user_counts[date] = user_counts.get(date, {})\n",
    "            \n",
    "            for user in group['user'].apply(lambda x: x['username']):\n",
    "                user_counts[date][user] = user_counts[date].get(user, 0) + 1\n",
    "    \n",
    "    top_dates = sorted(date_counts.items(), key=lambda x: x[1], reverse=True)[:10]\n",
    "    \n",
    "    result = []\n",
    "    for date, _ in top_dates:\n",
    "        top_user = max(user_counts[date].items(), key=lambda x: x[1])[0]\n",
    "        result.append((date, top_user))\n",
    "    \n",
    "    return result"
   ]
  },
  {
   "cell_type": "code",
   "execution_count": 31,
   "metadata": {},
   "outputs": [
    {
     "name": "stdout",
     "output_type": "stream",
     "text": [
      "[(datetime.date(2021, 2, 12), 'RanbirS00614606'), (datetime.date(2021, 2, 13), 'MaanDee08215437'), (datetime.date(2021, 2, 17), 'RaaJVinderkaur'), (datetime.date(2021, 2, 16), 'jot__b'), (datetime.date(2021, 2, 14), 'rebelpacifist'), (datetime.date(2021, 2, 18), 'neetuanjle_nitu'), (datetime.date(2021, 2, 15), 'jot__b'), (datetime.date(2021, 2, 20), 'MangalJ23056160'), (datetime.date(2021, 2, 23), 'Surrypuria'), (datetime.date(2021, 2, 19), 'Preetm91')]\n"
     ]
    }
   ],
   "source": [
    "# Probar la función q1_memory\n",
    "result_q1_memory = q1_memory(file_path)\n",
    "print(result_q1_memory)"
   ]
  },
  {
   "cell_type": "markdown",
   "metadata": {},
   "source": [
    "Q1_TIME -> Funcion enfocada el optimizar el tiempo\n"
   ]
  },
  {
   "cell_type": "code",
   "execution_count": 28,
   "metadata": {},
   "outputs": [],
   "source": [
    "## q1_time\n",
    "def q1_time(file_path: str) -> List[Tuple[datetime.date, str]]:\n",
    "    data = pd.read_json(file_path, lines=True)\n",
    "    data['date'] = pd.to_datetime(data['date'])\n",
    "    data['date_only'] = data['date'].dt.date\n",
    "    tweet_counts = data['date_only'].value_counts().head(10)\n",
    "    \n",
    "    result = []\n",
    "    for date in tweet_counts.index:\n",
    "        daily_tweets = data[data['date_only'] == date]\n",
    "        top_user = daily_tweets['user'].apply(lambda x: x['username']).value_counts().idxmax()\n",
    "        result.append((date, top_user))\n",
    "    \n",
    "    return result"
   ]
  },
  {
   "cell_type": "code",
   "execution_count": 29,
   "metadata": {},
   "outputs": [
    {
     "name": "stdout",
     "output_type": "stream",
     "text": [
      "[(datetime.date(2021, 2, 12), 'RanbirS00614606'), (datetime.date(2021, 2, 13), 'MaanDee08215437'), (datetime.date(2021, 2, 17), 'RaaJVinderkaur'), (datetime.date(2021, 2, 16), 'jot__b'), (datetime.date(2021, 2, 14), 'rebelpacifist'), (datetime.date(2021, 2, 18), 'neetuanjle_nitu'), (datetime.date(2021, 2, 15), 'jot__b'), (datetime.date(2021, 2, 20), 'MangalJ23056160'), (datetime.date(2021, 2, 23), 'Surrypuria'), (datetime.date(2021, 2, 19), 'Preetm91')]\n"
     ]
    }
   ],
   "source": [
    "# Probar la función q1_time\n",
    "result_q1_time = q1_time(file_path)\n",
    "print(result_q1_time)"
   ]
  },
  {
   "cell_type": "markdown",
   "metadata": {},
   "source": [
    "02_MEMORY -> Funcion enfocada en optimizar los recursos"
   ]
  },
  {
   "cell_type": "code",
   "execution_count": 35,
   "metadata": {},
   "outputs": [],
   "source": [
    "# Función q2_memory\n",
    "def q2_memory(file_path: str) -> List[Tuple[str, int]]:\n",
    "    emoji_counts = {}\n",
    "    emoji_pattern = re.compile(\"[\\U00010000-\\U0010FFFF]\", flags=re.UNICODE)\n",
    "    chunksize = 100000\n",
    "    for chunk in pd.read_json(file_path, lines=True, chunksize=chunksize):\n",
    "        chunk['emojis'] = chunk['content'].apply(lambda x: emoji_pattern.findall(x))\n",
    "        for emojis in chunk['emojis']:\n",
    "            for emoji in emojis:\n",
    "                emoji_counts[emoji] = emoji_counts.get(emoji, 0) + 1\n",
    "    top_emojis = sorted(emoji_counts.items(), key=lambda x: x[1], reverse=True)[:10]\n",
    "    return top_emojis\n"
   ]
  },
  {
   "cell_type": "code",
   "execution_count": 36,
   "metadata": {},
   "outputs": [
    {
     "name": "stdout",
     "output_type": "stream",
     "text": [
      "[('🙏', 7286), ('😂', 3072), ('🚜', 2972), ('🌾', 2363), ('🇮', 2096), ('🇳', 2094), ('🏻', 2080), ('🤣', 1668), ('🏽', 1218), ('👇', 1108)]\n"
     ]
    }
   ],
   "source": [
    "# Probar la función q2_memory\n",
    "result_q2_memory = q2_memory(file_path)\n",
    "print(result_q2_memory)"
   ]
  },
  {
   "cell_type": "markdown",
   "metadata": {},
   "source": [
    "Q1_TIME -> Funcion enfocada el optimizar el tiempo"
   ]
  },
  {
   "cell_type": "code",
   "execution_count": 32,
   "metadata": {},
   "outputs": [],
   "source": [
    "# Función q2_time\n",
    "def q2_time(file_path: str) -> List[Tuple[str, int]]:\n",
    "    data = pd.read_json(file_path, lines=True)\n",
    "    emoji_pattern = re.compile(\"[\\U00010000-\\U0010FFFF]\", flags=re.UNICODE)\n",
    "    data['emojis'] = data['content'].apply(lambda x: emoji_pattern.findall(x))\n",
    "    emoji_counts = data['emojis'].explode().value_counts().head(10)\n",
    "    return list(emoji_counts.items())\n"
   ]
  },
  {
   "cell_type": "code",
   "execution_count": 33,
   "metadata": {},
   "outputs": [
    {
     "name": "stdout",
     "output_type": "stream",
     "text": [
      "[('🙏', 7286), ('😂', 3072), ('🚜', 2972), ('🌾', 2363), ('🇮', 2096), ('🇳', 2094), ('🏻', 2080), ('🤣', 1668), ('🏽', 1218), ('👇', 1108)]\n"
     ]
    }
   ],
   "source": [
    "# Probar la función q2_time\n",
    "result_q2_time = q2_time(file_path)\n",
    "print(result_q2_time)"
   ]
  },
  {
   "cell_type": "markdown",
   "metadata": {},
   "source": [
    "03_MEMORY -> Funcion enfocada en optimizar los recursos"
   ]
  },
  {
   "cell_type": "code",
   "execution_count": 37,
   "metadata": {},
   "outputs": [],
   "source": [
    "# Función q3_memory\n",
    "def q3_memory(file_path: str) -> List[Tuple[str, int]]:\n",
    "    mention_counts = {}\n",
    "    chunksize = 100000\n",
    "    for chunk in pd.read_json(file_path, lines=True, chunksize=chunksize):\n",
    "        mentions = chunk['content'].str.extractall(r'(@\\w+)')[0]\n",
    "        for mention in mentions:\n",
    "            mention_counts[mention] = mention_counts.get(mention, 0) + 1\n",
    "    top_mentions = sorted(mention_counts.items(), key=lambda x: x[1], reverse=True)[:10]\n",
    "    return top_mentions"
   ]
  },
  {
   "cell_type": "code",
   "execution_count": 38,
   "metadata": {},
   "outputs": [
    {
     "name": "stdout",
     "output_type": "stream",
     "text": [
      "[('@narendramodi', 2261), ('@Kisanektamorcha', 1836), ('@RakeshTikaitBKU', 1639), ('@PMOIndia', 1422), ('@RahulGandhi', 1125), ('@GretaThunberg', 1046), ('@RaviSinghKA', 1015), ('@rihanna', 972), ('@UNHumanRights', 962), ('@meenaharris', 925)]\n"
     ]
    }
   ],
   "source": [
    "\n",
    "# Probar la función q3_memory\n",
    "result_q3_memory = q3_memory(file_path)\n",
    "print(result_q3_memory)\n"
   ]
  },
  {
   "cell_type": "markdown",
   "metadata": {},
   "source": [
    "Q1_TIME -> Funcion enfocada el optimizar el tiempo"
   ]
  },
  {
   "cell_type": "code",
   "execution_count": 39,
   "metadata": {},
   "outputs": [],
   "source": [
    "# Función q3_time\n",
    "def q3_time(file_path: str) -> List[Tuple[str, int]]:\n",
    "    data = pd.read_json(file_path, lines=True)\n",
    "    mention_counts = data['content'].str.extractall(r'(@\\w+)')[0].value_counts().head(10)\n",
    "    return list(mention_counts.items())"
   ]
  },
  {
   "cell_type": "code",
   "execution_count": 40,
   "metadata": {},
   "outputs": [
    {
     "name": "stdout",
     "output_type": "stream",
     "text": [
      "[('@narendramodi', 2261), ('@Kisanektamorcha', 1836), ('@RakeshTikaitBKU', 1639), ('@PMOIndia', 1422), ('@RahulGandhi', 1125), ('@GretaThunberg', 1046), ('@RaviSinghKA', 1015), ('@rihanna', 972), ('@UNHumanRights', 962), ('@meenaharris', 925)]\n"
     ]
    }
   ],
   "source": [
    "# Probar la función q3_time\n",
    "result_q3_time = q3_time(file_path)\n",
    "print(result_q3_time)"
   ]
  },
  {
   "cell_type": "markdown",
   "metadata": {},
   "source": [
    "RESULTADO FINAL Ordenados en tablas"
   ]
  },
  {
   "cell_type": "code",
   "execution_count": 46,
   "metadata": {},
   "outputs": [
    {
     "name": "stdout",
     "output_type": "stream",
     "text": [
      "Las top 10 fechas donde hay más tweets (q1_memory):\n"
     ]
    },
    {
     "data": {
      "text/html": [
       "<div>\n",
       "<style scoped>\n",
       "    .dataframe tbody tr th:only-of-type {\n",
       "        vertical-align: middle;\n",
       "    }\n",
       "\n",
       "    .dataframe tbody tr th {\n",
       "        vertical-align: top;\n",
       "    }\n",
       "\n",
       "    .dataframe thead th {\n",
       "        text-align: right;\n",
       "    }\n",
       "</style>\n",
       "<table border=\"1\" class=\"dataframe\">\n",
       "  <thead>\n",
       "    <tr style=\"text-align: right;\">\n",
       "      <th></th>\n",
       "      <th>Date</th>\n",
       "      <th>Top User</th>\n",
       "    </tr>\n",
       "  </thead>\n",
       "  <tbody>\n",
       "    <tr>\n",
       "      <th>0</th>\n",
       "      <td>2021-02-12</td>\n",
       "      <td>RanbirS00614606</td>\n",
       "    </tr>\n",
       "    <tr>\n",
       "      <th>1</th>\n",
       "      <td>2021-02-13</td>\n",
       "      <td>MaanDee08215437</td>\n",
       "    </tr>\n",
       "    <tr>\n",
       "      <th>2</th>\n",
       "      <td>2021-02-17</td>\n",
       "      <td>RaaJVinderkaur</td>\n",
       "    </tr>\n",
       "    <tr>\n",
       "      <th>3</th>\n",
       "      <td>2021-02-16</td>\n",
       "      <td>jot__b</td>\n",
       "    </tr>\n",
       "    <tr>\n",
       "      <th>4</th>\n",
       "      <td>2021-02-14</td>\n",
       "      <td>rebelpacifist</td>\n",
       "    </tr>\n",
       "    <tr>\n",
       "      <th>5</th>\n",
       "      <td>2021-02-18</td>\n",
       "      <td>neetuanjle_nitu</td>\n",
       "    </tr>\n",
       "    <tr>\n",
       "      <th>6</th>\n",
       "      <td>2021-02-15</td>\n",
       "      <td>jot__b</td>\n",
       "    </tr>\n",
       "    <tr>\n",
       "      <th>7</th>\n",
       "      <td>2021-02-20</td>\n",
       "      <td>MangalJ23056160</td>\n",
       "    </tr>\n",
       "    <tr>\n",
       "      <th>8</th>\n",
       "      <td>2021-02-23</td>\n",
       "      <td>Surrypuria</td>\n",
       "    </tr>\n",
       "    <tr>\n",
       "      <th>9</th>\n",
       "      <td>2021-02-19</td>\n",
       "      <td>Preetm91</td>\n",
       "    </tr>\n",
       "  </tbody>\n",
       "</table>\n",
       "</div>"
      ],
      "text/plain": [
       "         Date         Top User\n",
       "0  2021-02-12  RanbirS00614606\n",
       "1  2021-02-13  MaanDee08215437\n",
       "2  2021-02-17   RaaJVinderkaur\n",
       "3  2021-02-16           jot__b\n",
       "4  2021-02-14    rebelpacifist\n",
       "5  2021-02-18  neetuanjle_nitu\n",
       "6  2021-02-15           jot__b\n",
       "7  2021-02-20  MangalJ23056160\n",
       "8  2021-02-23       Surrypuria\n",
       "9  2021-02-19         Preetm91"
      ]
     },
     "metadata": {},
     "output_type": "display_data"
    },
    {
     "name": "stdout",
     "output_type": "stream",
     "text": [
      "usuario (username) que más publicaciones tiene por cada uno de esos días (q1_time):\n"
     ]
    },
    {
     "data": {
      "text/html": [
       "<div>\n",
       "<style scoped>\n",
       "    .dataframe tbody tr th:only-of-type {\n",
       "        vertical-align: middle;\n",
       "    }\n",
       "\n",
       "    .dataframe tbody tr th {\n",
       "        vertical-align: top;\n",
       "    }\n",
       "\n",
       "    .dataframe thead th {\n",
       "        text-align: right;\n",
       "    }\n",
       "</style>\n",
       "<table border=\"1\" class=\"dataframe\">\n",
       "  <thead>\n",
       "    <tr style=\"text-align: right;\">\n",
       "      <th></th>\n",
       "      <th>Username</th>\n",
       "      <th>Mentions</th>\n",
       "    </tr>\n",
       "  </thead>\n",
       "  <tbody>\n",
       "    <tr>\n",
       "      <th>0</th>\n",
       "      <td>2021-02-12</td>\n",
       "      <td>RanbirS00614606</td>\n",
       "    </tr>\n",
       "    <tr>\n",
       "      <th>1</th>\n",
       "      <td>2021-02-13</td>\n",
       "      <td>MaanDee08215437</td>\n",
       "    </tr>\n",
       "    <tr>\n",
       "      <th>2</th>\n",
       "      <td>2021-02-17</td>\n",
       "      <td>RaaJVinderkaur</td>\n",
       "    </tr>\n",
       "    <tr>\n",
       "      <th>3</th>\n",
       "      <td>2021-02-16</td>\n",
       "      <td>jot__b</td>\n",
       "    </tr>\n",
       "    <tr>\n",
       "      <th>4</th>\n",
       "      <td>2021-02-14</td>\n",
       "      <td>rebelpacifist</td>\n",
       "    </tr>\n",
       "    <tr>\n",
       "      <th>5</th>\n",
       "      <td>2021-02-18</td>\n",
       "      <td>neetuanjle_nitu</td>\n",
       "    </tr>\n",
       "    <tr>\n",
       "      <th>6</th>\n",
       "      <td>2021-02-15</td>\n",
       "      <td>jot__b</td>\n",
       "    </tr>\n",
       "    <tr>\n",
       "      <th>7</th>\n",
       "      <td>2021-02-20</td>\n",
       "      <td>MangalJ23056160</td>\n",
       "    </tr>\n",
       "    <tr>\n",
       "      <th>8</th>\n",
       "      <td>2021-02-23</td>\n",
       "      <td>Surrypuria</td>\n",
       "    </tr>\n",
       "    <tr>\n",
       "      <th>9</th>\n",
       "      <td>2021-02-19</td>\n",
       "      <td>Preetm91</td>\n",
       "    </tr>\n",
       "  </tbody>\n",
       "</table>\n",
       "</div>"
      ],
      "text/plain": [
       "     Username         Mentions\n",
       "0  2021-02-12  RanbirS00614606\n",
       "1  2021-02-13  MaanDee08215437\n",
       "2  2021-02-17   RaaJVinderkaur\n",
       "3  2021-02-16           jot__b\n",
       "4  2021-02-14    rebelpacifist\n",
       "5  2021-02-18  neetuanjle_nitu\n",
       "6  2021-02-15           jot__b\n",
       "7  2021-02-20  MangalJ23056160\n",
       "8  2021-02-23       Surrypuria\n",
       "9  2021-02-19         Preetm91"
      ]
     },
     "metadata": {},
     "output_type": "display_data"
    },
    {
     "name": "stdout",
     "output_type": "stream",
     "text": [
      "Los top 10 emojis más usados con su respectivo conteo (q2_memory):\n"
     ]
    },
    {
     "data": {
      "text/html": [
       "<div>\n",
       "<style scoped>\n",
       "    .dataframe tbody tr th:only-of-type {\n",
       "        vertical-align: middle;\n",
       "    }\n",
       "\n",
       "    .dataframe tbody tr th {\n",
       "        vertical-align: top;\n",
       "    }\n",
       "\n",
       "    .dataframe thead th {\n",
       "        text-align: right;\n",
       "    }\n",
       "</style>\n",
       "<table border=\"1\" class=\"dataframe\">\n",
       "  <thead>\n",
       "    <tr style=\"text-align: right;\">\n",
       "      <th></th>\n",
       "      <th>Emoji</th>\n",
       "      <th>Count</th>\n",
       "    </tr>\n",
       "  </thead>\n",
       "  <tbody>\n",
       "    <tr>\n",
       "      <th>0</th>\n",
       "      <td>🙏</td>\n",
       "      <td>7286</td>\n",
       "    </tr>\n",
       "    <tr>\n",
       "      <th>1</th>\n",
       "      <td>😂</td>\n",
       "      <td>3072</td>\n",
       "    </tr>\n",
       "    <tr>\n",
       "      <th>2</th>\n",
       "      <td>🚜</td>\n",
       "      <td>2972</td>\n",
       "    </tr>\n",
       "    <tr>\n",
       "      <th>3</th>\n",
       "      <td>🌾</td>\n",
       "      <td>2363</td>\n",
       "    </tr>\n",
       "    <tr>\n",
       "      <th>4</th>\n",
       "      <td>🇮</td>\n",
       "      <td>2096</td>\n",
       "    </tr>\n",
       "    <tr>\n",
       "      <th>5</th>\n",
       "      <td>🇳</td>\n",
       "      <td>2094</td>\n",
       "    </tr>\n",
       "    <tr>\n",
       "      <th>6</th>\n",
       "      <td>🏻</td>\n",
       "      <td>2080</td>\n",
       "    </tr>\n",
       "    <tr>\n",
       "      <th>7</th>\n",
       "      <td>🤣</td>\n",
       "      <td>1668</td>\n",
       "    </tr>\n",
       "    <tr>\n",
       "      <th>8</th>\n",
       "      <td>🏽</td>\n",
       "      <td>1218</td>\n",
       "    </tr>\n",
       "    <tr>\n",
       "      <th>9</th>\n",
       "      <td>👇</td>\n",
       "      <td>1108</td>\n",
       "    </tr>\n",
       "  </tbody>\n",
       "</table>\n",
       "</div>"
      ],
      "text/plain": [
       "  Emoji  Count\n",
       "0     🙏   7286\n",
       "1     😂   3072\n",
       "2     🚜   2972\n",
       "3     🌾   2363\n",
       "4     🇮   2096\n",
       "5     🇳   2094\n",
       "6     🏻   2080\n",
       "7     🤣   1668\n",
       "8     🏽   1218\n",
       "9     👇   1108"
      ]
     },
     "metadata": {},
     "output_type": "display_data"
    },
    {
     "name": "stdout",
     "output_type": "stream",
     "text": [
      "Los top 10 emojis más usados con su respectivo conteo (q2_time):\n"
     ]
    },
    {
     "data": {
      "text/html": [
       "<div>\n",
       "<style scoped>\n",
       "    .dataframe tbody tr th:only-of-type {\n",
       "        vertical-align: middle;\n",
       "    }\n",
       "\n",
       "    .dataframe tbody tr th {\n",
       "        vertical-align: top;\n",
       "    }\n",
       "\n",
       "    .dataframe thead th {\n",
       "        text-align: right;\n",
       "    }\n",
       "</style>\n",
       "<table border=\"1\" class=\"dataframe\">\n",
       "  <thead>\n",
       "    <tr style=\"text-align: right;\">\n",
       "      <th></th>\n",
       "      <th>Emoji</th>\n",
       "      <th>Count</th>\n",
       "    </tr>\n",
       "  </thead>\n",
       "  <tbody>\n",
       "    <tr>\n",
       "      <th>0</th>\n",
       "      <td>🙏</td>\n",
       "      <td>7286</td>\n",
       "    </tr>\n",
       "    <tr>\n",
       "      <th>1</th>\n",
       "      <td>😂</td>\n",
       "      <td>3072</td>\n",
       "    </tr>\n",
       "    <tr>\n",
       "      <th>2</th>\n",
       "      <td>🚜</td>\n",
       "      <td>2972</td>\n",
       "    </tr>\n",
       "    <tr>\n",
       "      <th>3</th>\n",
       "      <td>🌾</td>\n",
       "      <td>2363</td>\n",
       "    </tr>\n",
       "    <tr>\n",
       "      <th>4</th>\n",
       "      <td>🇮</td>\n",
       "      <td>2096</td>\n",
       "    </tr>\n",
       "    <tr>\n",
       "      <th>5</th>\n",
       "      <td>🇳</td>\n",
       "      <td>2094</td>\n",
       "    </tr>\n",
       "    <tr>\n",
       "      <th>6</th>\n",
       "      <td>🏻</td>\n",
       "      <td>2080</td>\n",
       "    </tr>\n",
       "    <tr>\n",
       "      <th>7</th>\n",
       "      <td>🤣</td>\n",
       "      <td>1668</td>\n",
       "    </tr>\n",
       "    <tr>\n",
       "      <th>8</th>\n",
       "      <td>🏽</td>\n",
       "      <td>1218</td>\n",
       "    </tr>\n",
       "    <tr>\n",
       "      <th>9</th>\n",
       "      <td>👇</td>\n",
       "      <td>1108</td>\n",
       "    </tr>\n",
       "  </tbody>\n",
       "</table>\n",
       "</div>"
      ],
      "text/plain": [
       "  Emoji  Count\n",
       "0     🙏   7286\n",
       "1     😂   3072\n",
       "2     🚜   2972\n",
       "3     🌾   2363\n",
       "4     🇮   2096\n",
       "5     🇳   2094\n",
       "6     🏻   2080\n",
       "7     🤣   1668\n",
       "8     🏽   1218\n",
       "9     👇   1108"
      ]
     },
     "metadata": {},
     "output_type": "display_data"
    },
    {
     "name": "stdout",
     "output_type": "stream",
     "text": [
      "El top 10 histórico de usuarios (username) más influyentes en función del conteo de las menciones (@) que registra cada uno de ellos (q3_memory):\n"
     ]
    },
    {
     "data": {
      "text/html": [
       "<div>\n",
       "<style scoped>\n",
       "    .dataframe tbody tr th:only-of-type {\n",
       "        vertical-align: middle;\n",
       "    }\n",
       "\n",
       "    .dataframe tbody tr th {\n",
       "        vertical-align: top;\n",
       "    }\n",
       "\n",
       "    .dataframe thead th {\n",
       "        text-align: right;\n",
       "    }\n",
       "</style>\n",
       "<table border=\"1\" class=\"dataframe\">\n",
       "  <thead>\n",
       "    <tr style=\"text-align: right;\">\n",
       "      <th></th>\n",
       "      <th>Username</th>\n",
       "      <th>Mentions</th>\n",
       "    </tr>\n",
       "  </thead>\n",
       "  <tbody>\n",
       "    <tr>\n",
       "      <th>0</th>\n",
       "      <td>@narendramodi</td>\n",
       "      <td>2261</td>\n",
       "    </tr>\n",
       "    <tr>\n",
       "      <th>1</th>\n",
       "      <td>@Kisanektamorcha</td>\n",
       "      <td>1836</td>\n",
       "    </tr>\n",
       "    <tr>\n",
       "      <th>2</th>\n",
       "      <td>@RakeshTikaitBKU</td>\n",
       "      <td>1639</td>\n",
       "    </tr>\n",
       "    <tr>\n",
       "      <th>3</th>\n",
       "      <td>@PMOIndia</td>\n",
       "      <td>1422</td>\n",
       "    </tr>\n",
       "    <tr>\n",
       "      <th>4</th>\n",
       "      <td>@RahulGandhi</td>\n",
       "      <td>1125</td>\n",
       "    </tr>\n",
       "    <tr>\n",
       "      <th>5</th>\n",
       "      <td>@GretaThunberg</td>\n",
       "      <td>1046</td>\n",
       "    </tr>\n",
       "    <tr>\n",
       "      <th>6</th>\n",
       "      <td>@RaviSinghKA</td>\n",
       "      <td>1015</td>\n",
       "    </tr>\n",
       "    <tr>\n",
       "      <th>7</th>\n",
       "      <td>@rihanna</td>\n",
       "      <td>972</td>\n",
       "    </tr>\n",
       "    <tr>\n",
       "      <th>8</th>\n",
       "      <td>@UNHumanRights</td>\n",
       "      <td>962</td>\n",
       "    </tr>\n",
       "    <tr>\n",
       "      <th>9</th>\n",
       "      <td>@meenaharris</td>\n",
       "      <td>925</td>\n",
       "    </tr>\n",
       "  </tbody>\n",
       "</table>\n",
       "</div>"
      ],
      "text/plain": [
       "           Username  Mentions\n",
       "0     @narendramodi      2261\n",
       "1  @Kisanektamorcha      1836\n",
       "2  @RakeshTikaitBKU      1639\n",
       "3         @PMOIndia      1422\n",
       "4      @RahulGandhi      1125\n",
       "5    @GretaThunberg      1046\n",
       "6      @RaviSinghKA      1015\n",
       "7          @rihanna       972\n",
       "8    @UNHumanRights       962\n",
       "9      @meenaharris       925"
      ]
     },
     "metadata": {},
     "output_type": "display_data"
    },
    {
     "name": "stdout",
     "output_type": "stream",
     "text": [
      "El top 10 histórico de usuarios (username) más influyentes en función del conteo de las menciones (@) que registra cada uno de ellos (q3_time):\n"
     ]
    },
    {
     "data": {
      "text/html": [
       "<div>\n",
       "<style scoped>\n",
       "    .dataframe tbody tr th:only-of-type {\n",
       "        vertical-align: middle;\n",
       "    }\n",
       "\n",
       "    .dataframe tbody tr th {\n",
       "        vertical-align: top;\n",
       "    }\n",
       "\n",
       "    .dataframe thead th {\n",
       "        text-align: right;\n",
       "    }\n",
       "</style>\n",
       "<table border=\"1\" class=\"dataframe\">\n",
       "  <thead>\n",
       "    <tr style=\"text-align: right;\">\n",
       "      <th></th>\n",
       "      <th>Username</th>\n",
       "      <th>Mentions</th>\n",
       "    </tr>\n",
       "  </thead>\n",
       "  <tbody>\n",
       "    <tr>\n",
       "      <th>0</th>\n",
       "      <td>@narendramodi</td>\n",
       "      <td>2261</td>\n",
       "    </tr>\n",
       "    <tr>\n",
       "      <th>1</th>\n",
       "      <td>@Kisanektamorcha</td>\n",
       "      <td>1836</td>\n",
       "    </tr>\n",
       "    <tr>\n",
       "      <th>2</th>\n",
       "      <td>@RakeshTikaitBKU</td>\n",
       "      <td>1639</td>\n",
       "    </tr>\n",
       "    <tr>\n",
       "      <th>3</th>\n",
       "      <td>@PMOIndia</td>\n",
       "      <td>1422</td>\n",
       "    </tr>\n",
       "    <tr>\n",
       "      <th>4</th>\n",
       "      <td>@RahulGandhi</td>\n",
       "      <td>1125</td>\n",
       "    </tr>\n",
       "    <tr>\n",
       "      <th>5</th>\n",
       "      <td>@GretaThunberg</td>\n",
       "      <td>1046</td>\n",
       "    </tr>\n",
       "    <tr>\n",
       "      <th>6</th>\n",
       "      <td>@RaviSinghKA</td>\n",
       "      <td>1015</td>\n",
       "    </tr>\n",
       "    <tr>\n",
       "      <th>7</th>\n",
       "      <td>@rihanna</td>\n",
       "      <td>972</td>\n",
       "    </tr>\n",
       "    <tr>\n",
       "      <th>8</th>\n",
       "      <td>@UNHumanRights</td>\n",
       "      <td>962</td>\n",
       "    </tr>\n",
       "    <tr>\n",
       "      <th>9</th>\n",
       "      <td>@meenaharris</td>\n",
       "      <td>925</td>\n",
       "    </tr>\n",
       "  </tbody>\n",
       "</table>\n",
       "</div>"
      ],
      "text/plain": [
       "           Username  Mentions\n",
       "0     @narendramodi      2261\n",
       "1  @Kisanektamorcha      1836\n",
       "2  @RakeshTikaitBKU      1639\n",
       "3         @PMOIndia      1422\n",
       "4      @RahulGandhi      1125\n",
       "5    @GretaThunberg      1046\n",
       "6      @RaviSinghKA      1015\n",
       "7          @rihanna       972\n",
       "8    @UNHumanRights       962\n",
       "9      @meenaharris       925"
      ]
     },
     "metadata": {},
     "output_type": "display_data"
    }
   ],
   "source": [
    "# Resultados de la función q1_memory\n",
    "result_q1_memory = q1_memory(file_path)\n",
    "df_q1_memory = pd.DataFrame(result_q1_memory, columns=['Date', 'Top User'])\n",
    "print(\"Las top 10 fechas donde hay más tweets (q1_memory):\")\n",
    "display(df_q1_memory)\n",
    "\n",
    "# Resultados de la función q1_time\n",
    "result_q1_time = q1_time(file_path)\n",
    "df_q1_time = pd.DataFrame(result_q1_time, columns=['Username', 'Mentions'])\n",
    "print(\"Las top 10 fechas donde hay más tweets (q1_memory):\")\n",
    "display(df_q1_time)\n",
    "\n",
    "# Resultados de la función q2_memory\n",
    "result_q2_memory = q2_memory(file_path)\n",
    "df_q2_memory = pd.DataFrame(result_q2_memory, columns=['Emoji', 'Count'])\n",
    "print(\"Los top 10 emojis más usados con su respectivo conteo (q2_memory):\")\n",
    "display(df_q2_memory)\n",
    "\n",
    "# Resultados de la función q2_time\n",
    "result_q2_time = q2_time(file_path)\n",
    "df_q2_time = pd.DataFrame(result_q2_time, columns=['Emoji', 'Count'])\n",
    "print(\"Los top 10 emojis más usados con su respectivo conteo (q2_time):\")\n",
    "display(df_q2_time)\n",
    "\n",
    "# Resultados de la función q3_memory\n",
    "result_q3_memory = q3_memory(file_path)\n",
    "df_q3_memory = pd.DataFrame(result_q3_memory, columns=['Username', 'Mentions'])\n",
    "print(\"El top 10 histórico de usuarios (username) más influyentes en función del conteo de las menciones (@) que registra cada uno de ellos (q3_memory):\")\n",
    "display(df_q3_memory)\n",
    "\n",
    "# Resultados de la función q3_time\n",
    "result_q3_time = q3_time(file_path)\n",
    "df_q3_time = pd.DataFrame(result_q3_time, columns=['Username', 'Mentions'])\n",
    "print(\"El top 10 histórico de usuarios (username) más influyentes en función del conteo de las menciones (@) que registra cada uno de ellos (q3_time):\")\n",
    "display(df_q3_time)\n"
   ]
  },
  {
   "cell_type": "markdown",
   "metadata": {},
   "source": [
    "Ahora vamos a comprobar el rendimiento de las formulas enfocadas en memoria y tiempo, para poder concluir con el analisis. "
   ]
  },
  {
   "cell_type": "code",
   "execution_count": 58,
   "metadata": {},
   "outputs": [
    {
     "name": "stdout",
     "output_type": "stream",
     "text": [
      "Performance Results for Q1:\n"
     ]
    },
    {
     "data": {
      "text/html": [
       "<div>\n",
       "<style scoped>\n",
       "    .dataframe tbody tr th:only-of-type {\n",
       "        vertical-align: middle;\n",
       "    }\n",
       "\n",
       "    .dataframe tbody tr th {\n",
       "        vertical-align: top;\n",
       "    }\n",
       "\n",
       "    .dataframe thead th {\n",
       "        text-align: right;\n",
       "    }\n",
       "</style>\n",
       "<table border=\"1\" class=\"dataframe\">\n",
       "  <thead>\n",
       "    <tr style=\"text-align: right;\">\n",
       "      <th></th>\n",
       "      <th>Function</th>\n",
       "      <th>Execution Time (s)</th>\n",
       "      <th>Max Memory Usage (MiB)</th>\n",
       "    </tr>\n",
       "  </thead>\n",
       "  <tbody>\n",
       "    <tr>\n",
       "      <th>0</th>\n",
       "      <td>q1_memory</td>\n",
       "      <td>5.61</td>\n",
       "      <td>4504.84</td>\n",
       "    </tr>\n",
       "    <tr>\n",
       "      <th>1</th>\n",
       "      <td>q1_time</td>\n",
       "      <td>7.73</td>\n",
       "      <td>4745.98</td>\n",
       "    </tr>\n",
       "  </tbody>\n",
       "</table>\n",
       "</div>"
      ],
      "text/plain": [
       "    Function  Execution Time (s)  Max Memory Usage (MiB)\n",
       "0  q1_memory                5.61                 4504.84\n",
       "1    q1_time                7.73                 4745.98"
      ]
     },
     "metadata": {},
     "output_type": "display_data"
    },
    {
     "name": "stdout",
     "output_type": "stream",
     "text": [
      "Performance Results for Q2:\n"
     ]
    },
    {
     "data": {
      "text/html": [
       "<div>\n",
       "<style scoped>\n",
       "    .dataframe tbody tr th:only-of-type {\n",
       "        vertical-align: middle;\n",
       "    }\n",
       "\n",
       "    .dataframe tbody tr th {\n",
       "        vertical-align: top;\n",
       "    }\n",
       "\n",
       "    .dataframe thead th {\n",
       "        text-align: right;\n",
       "    }\n",
       "</style>\n",
       "<table border=\"1\" class=\"dataframe\">\n",
       "  <thead>\n",
       "    <tr style=\"text-align: right;\">\n",
       "      <th></th>\n",
       "      <th>Function</th>\n",
       "      <th>Execution Time (s)</th>\n",
       "      <th>Max Memory Usage (MiB)</th>\n",
       "    </tr>\n",
       "  </thead>\n",
       "  <tbody>\n",
       "    <tr>\n",
       "      <th>0</th>\n",
       "      <td>q2_time</td>\n",
       "      <td>5.57</td>\n",
       "      <td>4975.75</td>\n",
       "    </tr>\n",
       "    <tr>\n",
       "      <th>1</th>\n",
       "      <td>q2_memory</td>\n",
       "      <td>6.38</td>\n",
       "      <td>4510.39</td>\n",
       "    </tr>\n",
       "  </tbody>\n",
       "</table>\n",
       "</div>"
      ],
      "text/plain": [
       "    Function  Execution Time (s)  Max Memory Usage (MiB)\n",
       "0    q2_time                5.57                 4975.75\n",
       "1  q2_memory                6.38                 4510.39"
      ]
     },
     "metadata": {},
     "output_type": "display_data"
    },
    {
     "name": "stdout",
     "output_type": "stream",
     "text": [
      "Performance Results for Q3:\n"
     ]
    },
    {
     "data": {
      "text/html": [
       "<div>\n",
       "<style scoped>\n",
       "    .dataframe tbody tr th:only-of-type {\n",
       "        vertical-align: middle;\n",
       "    }\n",
       "\n",
       "    .dataframe tbody tr th {\n",
       "        vertical-align: top;\n",
       "    }\n",
       "\n",
       "    .dataframe thead th {\n",
       "        text-align: right;\n",
       "    }\n",
       "</style>\n",
       "<table border=\"1\" class=\"dataframe\">\n",
       "  <thead>\n",
       "    <tr style=\"text-align: right;\">\n",
       "      <th></th>\n",
       "      <th>Function</th>\n",
       "      <th>Execution Time (s)</th>\n",
       "      <th>Max Memory Usage (MiB)</th>\n",
       "    </tr>\n",
       "  </thead>\n",
       "  <tbody>\n",
       "    <tr>\n",
       "      <th>0</th>\n",
       "      <td>q3_time</td>\n",
       "      <td>5.47</td>\n",
       "      <td>4884.39</td>\n",
       "    </tr>\n",
       "    <tr>\n",
       "      <th>1</th>\n",
       "      <td>q3_memory</td>\n",
       "      <td>6.23</td>\n",
       "      <td>4593.52</td>\n",
       "    </tr>\n",
       "  </tbody>\n",
       "</table>\n",
       "</div>"
      ],
      "text/plain": [
       "    Function  Execution Time (s)  Max Memory Usage (MiB)\n",
       "0    q3_time                5.47                 4884.39\n",
       "1  q3_memory                6.23                 4593.52"
      ]
     },
     "metadata": {},
     "output_type": "display_data"
    }
   ],
   "source": [
    "# Medir rendimiento de q1_time y q1_memory\n",
    "exec_time_q1_time, mem_usage_q1_time = measure_performance(q1_time, file_path)\n",
    "exec_time_q1_memory, mem_usage_q1_memory = measure_performance(q1_memory, file_path)\n",
    "\n",
    "# Medir rendimiento de q2_time y q2_memory\n",
    "exec_time_q2_time, mem_usage_q2_time = measure_performance(q2_time, file_path)\n",
    "exec_time_q2_memory, mem_usage_q2_memory = measure_performance(q2_memory, file_path)\n",
    "\n",
    "# Medir rendimiento de q3_time y q3_memory\n",
    "exec_time_q3_time, mem_usage_q3_time = measure_performance(q3_time, file_path)\n",
    "exec_time_q3_memory, mem_usage_q3_memory = measure_performance(q3_memory, file_path)\n",
    "\n",
    "# Crear DataFrames para mostrar los resultados\n",
    "results_q1 = {\n",
    "    \"Function\": [\"q1_time\", \"q1_memory\"],\n",
    "    \"Execution Time (s)\": [exec_time_q1_time, exec_time_q1_memory],\n",
    "    \"Max Memory Usage (MiB)\": [mem_usage_q1_time, mem_usage_q1_memory]\n",
    "}\n",
    "\n",
    "results_q2 = {\n",
    "    \"Function\": [\"q2_time\", \"q2_memory\"],\n",
    "    \"Execution Time (s)\": [exec_time_q2_time, exec_time_q2_memory],\n",
    "    \"Max Memory Usage (MiB)\": [mem_usage_q2_time, mem_usage_q2_memory]\n",
    "}\n",
    "\n",
    "results_q3 = {\n",
    "    \"Function\": [\"q3_time\", \"q3_memory\"],\n",
    "    \"Execution Time (s)\": [exec_time_q3_time, exec_time_q3_memory],\n",
    "    \"Max Memory Usage (MiB)\": [mem_usage_q3_time, mem_usage_q3_memory]\n",
    "}\n",
    "\n",
    "df_results_q1 = pd.DataFrame(results_q1).round(2).sort_values(by=\"Execution Time (s)\").reset_index(drop=True)\n",
    "df_results_q2 = pd.DataFrame(results_q2).round(2).sort_values(by=\"Execution Time (s)\").reset_index(drop=True)\n",
    "df_results_q3 = pd.DataFrame(results_q3).round(2).sort_values(by=\"Execution Time (s)\").reset_index(drop=True)\n",
    "\n",
    "# Mostrar resultados\n",
    "print(\"Performance Results for Q1:\")\n",
    "display(df_results_q1)\n",
    "\n",
    "print(\"Performance Results for Q2:\")\n",
    "display(df_results_q2)\n",
    "\n",
    "print(\"Performance Results for Q3:\")\n",
    "display(df_results_q3)"
   ]
  },
  {
   "cell_type": "markdown",
   "metadata": {},
   "source": [
    "Pros y Contras\n",
    "Time: \n",
    "    Pros: Ejecuta los procesos en menor tiempo ya que el tiempo es su prioridad.\n",
    "    Contra: Al ser el tiempo su prioridad no se preocupa por los recursos, por lo que podría no completar su ejecución si el entonrno no cumple con los requisitos.  \n",
    "\n",
    "Memory:\n",
    "    Pros: Ocupa menos memoria debido al procesamiento en chunks, puede ser efectivo en un entorno sin tantos recursos. \n",
    "    Contra: Puede tomar más tiempo de ejecución, debido a que se ejecuta por partes."
   ]
  },
  {
   "cell_type": "markdown",
   "metadata": {},
   "source": [
    "Cabe destacar que antes de tomar una decisión sobre cuál solución escoger se deben evaluar diversos aspectos, como por ejemplo la disponibilidad de recursos, la cantidad de RAM y la capacidad de procesamiento del sistema.\n",
    "\n",
    "Todo depende del objetivo del proyecto."
   ]
  },
  {
   "cell_type": "markdown",
   "metadata": {},
   "source": []
  }
 ],
 "metadata": {
  "kernelspec": {
   "display_name": "venv",
   "language": "python",
   "name": "python3"
  },
  "language_info": {
   "codemirror_mode": {
    "name": "ipython",
    "version": 3
   },
   "file_extension": ".py",
   "mimetype": "text/x-python",
   "name": "python",
   "nbconvert_exporter": "python",
   "pygments_lexer": "ipython3",
   "version": "3.11.7"
  },
  "orig_nbformat": 4
 },
 "nbformat": 4,
 "nbformat_minor": 2
}
